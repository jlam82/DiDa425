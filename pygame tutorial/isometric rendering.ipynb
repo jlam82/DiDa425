{
 "cells": [
  {
   "cell_type": "markdown",
   "id": "dd7f28a5-c897-43ff-8122-8ee0a2d44413",
   "metadata": {},
   "source": [
    "# Reference\n",
    "[Isometric Rendering - Pygame Tutorial](https://www.youtube.com/watch?v=gE2gTCwLdFM&themeRefresh=1)"
   ]
  },
  {
   "cell_type": "markdown",
   "id": "20588a7d-8d21-480d-97d4-fe6c64feee21",
   "metadata": {},
   "source": [
    "## $\\small{\\boldsymbol{\\emptyset}}$ Preparations"
   ]
  },
  {
   "cell_type": "code",
   "execution_count": 21,
   "id": "d00b8d78-71d0-4149-b08e-2f6f40089f06",
   "metadata": {},
   "outputs": [],
   "source": [
    "import ctypes # for 4K monitor resolutions\n",
    "ctypes.windll.shcore.SetProcessDpiAwareness(1);"
   ]
  },
  {
   "cell_type": "markdown",
   "id": "4fabae22-74f7-4fbb-a510-8752798ed512",
   "metadata": {},
   "source": [
    "_DaFluffyPotato_ didn't provide this `map.txt`. So..."
   ]
  },
  {
   "cell_type": "code",
   "execution_count": 29,
   "id": "e42c00e8-388a-402b-84bc-f9d73bb69ed3",
   "metadata": {},
   "outputs": [],
   "source": [
    "txt = \"\"\"\n",
    "    00000000000\n",
    "    01000000111\n",
    "    00000000000\n",
    "    00011111000\n",
    "    00001110000\n",
    "    00000000000\n",
    "    00000000000\n",
    "    00100000000\n",
    "    00100000000\n",
    "    00100000110\n",
    "    00000000100\n",
    "    00010010000\n",
    "    00111110000\n",
    "    00000111000\n",
    "    00000010000\n",
    "\"\"\" # yes I'm nesting the documentary strings\n",
    "\n",
    "txt = \"\".join(txt.split(\"    \")[1:])"
   ]
  },
  {
   "cell_type": "markdown",
   "id": "bc13edb4-2793-4661-a311-764883af793f",
   "metadata": {},
   "source": [
    "## __0__ Starting Code"
   ]
  },
  {
   "cell_type": "code",
   "execution_count": 30,
   "id": "12e84df8-8343-4534-b654-5be16ea576c5",
   "metadata": {},
   "outputs": [
    {
     "ename": "SystemExit",
     "evalue": "",
     "output_type": "error",
     "traceback": [
      "An exception has occurred, use %tb to see the full traceback.\n",
      "\u001b[1;31mSystemExit\u001b[0m\n"
     ]
    }
   ],
   "source": [
    "import pygame\n",
    "import sys\n",
    "\n",
    "pygame.init()\n",
    "pygame.display.set_caption(\"game base\")\n",
    "screen = pygame.display.set_mode((900, 900), 0, 32)\n",
    "display = pygame.Surface((300, 300))\n",
    "\n",
    "grass_img = pygame.image.load(\"grass.png\").convert() # he didn't provide his images :(\n",
    "grass_img.set_colorkey((0, 0, 0))\n",
    "\n",
    "f\"\"\"\n",
    "map_data essentially converts a .txt file as an array.\n",
    "\n",
    "Ideally, txt variable would come from an external .txt file.\n",
    "Context manager can be used via the following:\n",
    ">>> with open('map.txt') as fh:\n",
    ">>>     map_data = [[int(column) for column in row] for row in txt.split('\\n')]\n",
    "\"\"\"\n",
    "map_data = [[int(column) for column in row] for row in txt.split(\"\\n\")]\n",
    "\n",
    "while True:\n",
    "    display.fill((0, 0, 0))\n",
    "\n",
    "    for y, row in enumerate(map_data):\n",
    "        for x, tile in enumerate(row):\n",
    "            if tile:\n",
    "                pygame.draw.rect(display, (255, 255, 255), pygame.Rect(10*x, 10*y, 10, 10), 1)\n",
    "\n",
    "    for event in pygame.event.get():\n",
    "        if event.type == pygame.QUIT:\n",
    "            pygame.quit()\n",
    "            sys.exit()\n",
    "        if event.type == pygame.KEYDOWN:\n",
    "            if event.key == pygame.K_ESCAPE:\n",
    "                pygame.quit()\n",
    "                sys.exit()\n",
    "\n",
    "    screen.blit(pygame.transform.scale(display, screen.get_size()), (0, 0))\n",
    "    pygame.display.update()"
   ]
  },
  {
   "cell_type": "code",
   "execution_count": null,
   "id": "11fa7bbc-1bb4-497e-8232-854166b36ddb",
   "metadata": {},
   "outputs": [],
   "source": []
  }
 ],
 "metadata": {
  "kernelspec": {
   "display_name": "Python 3 (ipykernel)",
   "language": "python",
   "name": "python3"
  },
  "language_info": {
   "codemirror_mode": {
    "name": "ipython",
    "version": 3
   },
   "file_extension": ".py",
   "mimetype": "text/x-python",
   "name": "python",
   "nbconvert_exporter": "python",
   "pygments_lexer": "ipython3",
   "version": "3.11.5"
  }
 },
 "nbformat": 4,
 "nbformat_minor": 5
}
