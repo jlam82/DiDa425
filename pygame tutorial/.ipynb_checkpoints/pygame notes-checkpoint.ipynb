{
 "cells": [
  {
   "cell_type": "markdown",
   "id": "a8e28a60-95a4-4c31-a8dd-d7ff7d00e9d0",
   "metadata": {},
   "source": [
    "# Reference"
   ]
  },
  {
   "cell_type": "markdown",
   "id": "057882e6-f929-4344-a3ce-640f5e440e5e",
   "metadata": {},
   "source": [
    "[Pygame Platformer Tutorial - Full Course](https://www.youtube.com/watch?v=2gABYM5M0ww)"
   ]
  },
  {
   "cell_type": "markdown",
   "id": "de5b3c30-4897-40fd-9be6-8be2b60c369f",
   "metadata": {},
   "source": [
    "## __0.1__ What is `pygame`? (And other information)"
   ]
  },
  {
   "cell_type": "markdown",
   "id": "5135dfcb-b865-4f6e-a3dd-0b0c951d8ecd",
   "metadata": {},
   "source": [
    "* A wrapper for Simple Directmedia Layer (SDL) widely used with C++ and C to make games and _etc._\n",
    "\n",
    "* Using `pygame` is actually considered a low-level way to make games (so this might be harder than Unity?)\n",
    "* Uh `pygame` has internal drama associated with \"one person\" who controls almost everything (_e.g._, GitHub, Pygame website, Discord server)?\n",
    "    * There is a community fork of the package, `pygame-ce`$-$ this will be used instead\n",
    "    * Supposed to be a drop-in replacement for base `pygame`.\n",
    "    * (tried running `! pip uninstall pygame` to remove the original package, but got stuck probably thanks to how wonky Jupyter's magic commands. Had to launch __anaconda_prompt__ and do it there).\n",
    "<div style=\"text-align: right\">\n",
    "    <a href=\"https://www.youtube.com/watch?v=pYq9edSUaOw\">Pygame CE - Better & Faster</a>\n",
    "</div>\n",
    "* `pygame` _could_ be slow, but this is typically user error rather than the fault of the library.\n",
    "    * `pygame`'s rendering functions are written in C (through SDL).\n",
    "    * SDL mainly uses CPU for rendering (_i.e._, does not use GPU for hardware acceleration)\n",
    "    * \"90%\" of time the solution for more optimized code is using dictionaries?\n",
    "    * _Always_ convert images in `pygame`. _E.g._,\n",
    "<div style=\"text-align: center\">\n",
    "    <code>my_img = pygame.image.load(\"my_img.png\")<u>.convert()</u></code>\n",
    "</div>\n",
    "    * Also `pygame` is not meant for 3D project (I think this was a given).\n",
    "<div style=\"text-align: right\">\n",
    "    <a href=\"https://www.youtube.com/watch?v=hnKocNdF9-U\">Pygame's Performance - What You Need to Know</a>\n",
    "</div>"
   ]
  },
  {
   "cell_type": "markdown",
   "id": "9c7ecc12-a108-406a-991a-297f24ccd5b7",
   "metadata": {},
   "source": [
    "## __0.2__ `pip install` and `import` `pygame`"
   ]
  },
  {
   "cell_type": "code",
   "execution_count": 1,
   "id": "1445698f-7536-4152-8e32-570fc2eb85e1",
   "metadata": {},
   "outputs": [
    {
     "name": "stdout",
     "output_type": "stream",
     "text": [
      "pygame-ce 2.5.3 (SDL 2.30.12, Python 3.11.5)\n"
     ]
    }
   ],
   "source": [
    "import importlib.util as util\n",
    "import subprocess\n",
    "\n",
    "pygame_spec = util.find_spec(\"pygame\") # https://stackoverflow.com/questions/14050281/how-to-check-if-a-python-module-exists-without-importing-it\n",
    "if pygame_spec:\n",
    "    import pygame\n",
    "if not pygame_spec:\n",
    "    subprocess.run([\"pip\", \"install\", \"pygame-ce\"]) # https://stackoverflow.com/questions/69345839/how-to-run-a-pip-install-command-from-a-subproces-run\n",
    "    import pygame"
   ]
  },
  {
   "cell_type": "markdown",
   "id": "1a026ff8-8c66-464e-8fce-f29d9cb81938",
   "metadata": {},
   "source": [
    "## __1__ Creating a Window"
   ]
  },
  {
   "cell_type": "code",
   "execution_count": 2,
   "id": "19cee4b0-afe7-4e07-a9db-ef610691ff65",
   "metadata": {},
   "outputs": [
    {
     "ename": "SystemExit",
     "evalue": "",
     "output_type": "error",
     "traceback": [
      "An exception has occurred, use %tb to see the full traceback.\n",
      "\u001b[1;31mSystemExit\u001b[0m\n"
     ]
    },
    {
     "name": "stderr",
     "output_type": "stream",
     "text": [
      "C:\\Users\\JetBl\\anaconda3\\Lib\\site-packages\\IPython\\core\\interactiveshell.py:3585: UserWarning: To exit: use 'exit', 'quit', or Ctrl-D.\n",
      "  warn(\"To exit: use 'exit', 'quit', or Ctrl-D.\", stacklevel=1)\n"
     ]
    }
   ],
   "source": [
    "import sys # necessary for exiting the game\n",
    "import pygame\n",
    "\n",
    "pygame.init() # this will start-up pygame\n",
    "\n",
    "pygame.display.set_caption(\"ninja game\") # setting the window name\n",
    "screen = pygame.display.set_mode((640, 480)) # very similar to \"root\" in tkinter; .set_mode() creates the window (a bit misleading)\n",
    "\n",
    "clock = pygame.time.Clock() # helps set our FPS\n",
    "\n",
    "while True: # game loop in the form of an infinite loop\n",
    "    for event in pygame.event.get():\n",
    "        if event.type == pygame.QUIT: # event for user closing the window\n",
    "            pygame.quit() # will just close pygame\n",
    "            sys.exit() # exits the application\n",
    "\n",
    "    pygame.display.update() # always necessary; updates the frame\n",
    "    clock.tick(60) # setting our FPS to 60 so our CPU doesn't burn down"
   ]
  },
  {
   "cell_type": "code",
   "execution_count": null,
   "id": "0e4b5225-c643-4d44-8853-ff9d1d1bbbc7",
   "metadata": {},
   "outputs": [],
   "source": []
  }
 ],
 "metadata": {
  "kernelspec": {
   "display_name": "Python 3 (ipykernel)",
   "language": "python",
   "name": "python3"
  },
  "language_info": {
   "codemirror_mode": {
    "name": "ipython",
    "version": 3
   },
   "file_extension": ".py",
   "mimetype": "text/x-python",
   "name": "python",
   "nbconvert_exporter": "python",
   "pygments_lexer": "ipython3",
   "version": "3.11.5"
  }
 },
 "nbformat": 4,
 "nbformat_minor": 5
}
