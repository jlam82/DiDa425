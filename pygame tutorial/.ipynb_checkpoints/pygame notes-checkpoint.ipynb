{
 "cells": [
  {
   "cell_type": "markdown",
   "id": "a8e28a60-95a4-4c31-a8dd-d7ff7d00e9d0",
   "metadata": {},
   "source": [
    "# Reference"
   ]
  },
  {
   "cell_type": "markdown",
   "id": "057882e6-f929-4344-a3ce-640f5e440e5e",
   "metadata": {},
   "source": [
    "[Pygame Platformer Tutorial - Full Course](https://www.youtube.com/watch?v=2gABYM5M0ww)"
   ]
  },
  {
   "attachments": {},
   "cell_type": "markdown",
   "id": "54b65c62-e937-4020-95d7-de0fecbc24c9",
   "metadata": {
    "jp-MarkdownHeadingCollapsed": true
   },
   "source": [
    "## $\\small{\\boldsymbol{\\emptyset}}$ Preface\n",
    "<!-- https://tex.stackexchange.com/questions/28493/nothing-varnothing-and-emptyset\n",
    "https://www.overleaf.com/learn/latex/Font_sizes%2C_families%2C_and_styles\n",
    "... and ChatGPT for making \\emptyset bold (\\require{amsmath} not needed)  -->"
   ]
  },
  {
   "cell_type": "markdown",
   "id": "615f5647-e302-4f18-9db1-f8a928a7a581",
   "metadata": {},
   "source": [
    "* This file should ideally be viewed in _Jupyter Notebook_ rather than Google Colab or any other IDE's like VS Code (Jupyter Lab is fine, but sometimes it can be unstable). There are several reasons:\n",
    "\n",
    "    1. You may find notes throughout the sections in the form of either comments or documentation strings (for notes that needed to be multi-line). The latest version of JN (ver. 7.06 & up) _changes the appearance of f-strings_ to be <span style=\"color: #770088\">purple</span> rather than the usual <span style=\"color: #ba2121\">red</span>$-$ this notebook utilizes this change as an additional visual cue for when there are notes, _i.e._,\n",
    "\n",
    "        ```python\n",
    "        f\"\"\"\n",
    "        This is a\n",
    "        multi-line\n",
    "        comment\n",
    "        \"\"\"\n",
    "        \n",
    "        def myfunc():\n",
    "            \"\"\"\n",
    "            Example function.\n",
    "        \n",
    "            This is what normal documentation string should appear (red) and be used for.\n",
    "            \"\"\"\n",
    "            pass\n",
    "\n",
    "        \n",
    "        ```\n",
    "        <!-- I cheated with the spacing by adding an extra line at the end of the code block -->\n",
    "        for the example above, you should be seeing the documentation string in its typical use-case scenario as red as compared to seeing the _f-docstrings_ in purple. This change as subtle as it is hopefully will improve readability throughout the notebook.\n",
    "\n",
    "    2. Like with any video game, there's assets that the program needs access to render the game. If working in Google Colab, you may need to upload the necessary files every time when viewing (which may be annoying in the long run).\n",
    " \n",
    "    3. The latest version of JN supports cell-hiding for different level of headers. For navigation purposes, it can be quite handy to hide some read-through information, keeping other select information for comparison if needed. \n",
    " \n",
    "    4. As it can be seen via this section's anchor ($\\emptyset$) and the text color, LaTeX and HTML are used quite extensively throughout this notebook. On Google Colab at least the LaTeX support is about the same as JN but the HTML support via Markdown seems to be different (so viewing this file on Google Colab may seem weird at times).\n",
    "\n",
    "<!-- https://stackoverflow.com/questions/35465557/how-to-apply-color-on-text-in-markdown\n",
    "... ChatGPT also said the difference between the <span> tag and <div> tag is\"\n",
    "    \"The <span> tag is an inline element, meaning it does not start on a new line and only takes up as much width as necessary for its content. It's typically used for styling small portions of text within a block-level element, like a paragraph.\"\n",
    "    \"The <div> tag is a block-level element, meaning it starts on a new line and takes up the full width available (or the width you've set). It is often used for grouping larger sections of content together, and you typically use it for structuring your layout, not just for inline text styling.\" -->"
   ]
  },
  {
   "cell_type": "markdown",
   "id": "999342a5-da31-4965-aec1-001cd096c9c8",
   "metadata": {
    "jp-MarkdownHeadingCollapsed": true
   },
   "source": [
    "## __0__ Introduction"
   ]
  },
  {
   "cell_type": "markdown",
   "id": "de5b3c30-4897-40fd-9be6-8be2b60c369f",
   "metadata": {
    "jp-MarkdownHeadingCollapsed": true
   },
   "source": [
    "### __0.1__ What is `pygame`? (And other information)"
   ]
  },
  {
   "cell_type": "markdown",
   "id": "5135dfcb-b865-4f6e-a3dd-0b0c951d8ecd",
   "metadata": {},
   "source": [
    "* A wrapper for Simple Directmedia Layer (SDL) widely used with C++ and C to make games and _etc._\n",
    "\n",
    "* Using `pygame` is actually considered a low-level way to make games (so this might be harder than using Unity?)\n",
    "* Uh, `pygame` has internal drama associated with \"one person\" who controls almost everything (_e.g._, GitHub, Pygame website, Discord server)?\n",
    "    * There is a community fork of the package, `pygame-ce`$-$ this will be used instead.\n",
    "    * Supposed to be a drop-in replacement for base `pygame`.\n",
    "    * Tried running `! pip uninstall pygame` to remove the original package, but got stuck probably thanks to how wonky Jupyter's magic commands are (had to launch __anaconda_prompt__ and do it there).\n",
    "<div style=\"text-align: right\">\n",
    "    <a href=\"https://www.youtube.com/watch?v=pYq9edSUaOw\">Pygame CE - Better & Faster</a>\n",
    "</div>\n",
    "* `pygame` _could_ be slow, but this is typically user error rather than the fault of the library.\n",
    "    * `pygame`'s rendering functions are written in C (through SDL).\n",
    "    * SDL mainly uses CPU for rendering (_i.e._, does not use GPU for hardware acceleration)\n",
    "    * \"90%\" of time the solution for more optimized code is using dictionaries?\n",
    "    * _Always_ convert images in `pygame`. _E.g._,\n",
    "<div style=\"text-align: center\">\n",
    "    <code>my_img = pygame.image.load(\"my_img.png\")<u>.convert()</u></code>\n",
    "</div>\n",
    "    * Also `pygame` is not meant for 3D project (I think this was a given).\n",
    "<div style=\"text-align: right\">\n",
    "    <a href=\"https://www.youtube.com/watch?v=hnKocNdF9-U\">Pygame's Performance - What You Need to Know</a>\n",
    "</div>"
   ]
  },
  {
   "cell_type": "markdown",
   "id": "9c7ecc12-a108-406a-991a-297f24ccd5b7",
   "metadata": {
    "jp-MarkdownHeadingCollapsed": true
   },
   "source": [
    "### __0.2__ `pip install` and `import` `pygame`"
   ]
  },
  {
   "cell_type": "code",
   "execution_count": 6,
   "id": "1445698f-7536-4152-8e32-570fc2eb85e1",
   "metadata": {},
   "outputs": [
    {
     "name": "stdout",
     "output_type": "stream",
     "text": [
      "pygame-ce 2.5.3 (SDL 2.30.12, Python 3.11.7)\n"
     ]
    }
   ],
   "source": [
    "import importlib.util as util\n",
    "import subprocess\n",
    "import sys # for assisting closing the application\n",
    "\n",
    "pygame_spec = util.find_spec(\"pygame\") # https://stackoverflow.com/questions/14050281/how-to-check-if-a-python-module-exists-without-importing-it\n",
    "if pygame_spec:\n",
    "    import pygame\n",
    "if not pygame_spec:\n",
    "    subprocess.run([\"pip\", \"install\", \"pygame-ce\"]) # https://stackoverflow.com/questions/69345839/how-to-run-a-pip-install-command-from-a-subproces-run\n",
    "    import pygame"
   ]
  },
  {
   "cell_type": "markdown",
   "id": "ef264521-febc-43fd-bb8b-2ed81403b4fe",
   "metadata": {},
   "source": [
    "## __1__ Getting Started"
   ]
  },
  {
   "cell_type": "markdown",
   "id": "1a026ff8-8c66-464e-8fce-f29d9cb81938",
   "metadata": {
    "jp-MarkdownHeadingCollapsed": true
   },
   "source": [
    "### __1.1__ Creating a Window"
   ]
  },
  {
   "cell_type": "code",
   "execution_count": 150,
   "id": "19cee4b0-afe7-4e07-a9db-ef610691ff65",
   "metadata": {},
   "outputs": [
    {
     "ename": "SystemExit",
     "evalue": "",
     "output_type": "error",
     "traceback": [
      "An exception has occurred, use %tb to see the full traceback.\n",
      "\u001b[1;31mSystemExit\u001b[0m\n"
     ]
    },
    {
     "name": "stderr",
     "output_type": "stream",
     "text": [
      "C:\\Users\\Jeff Lam\\anaconda3\\Lib\\site-packages\\IPython\\core\\interactiveshell.py:3561: UserWarning: To exit: use 'exit', 'quit', or Ctrl-D.\n",
      "  warn(\"To exit: use 'exit', 'quit', or Ctrl-D.\", stacklevel=1)\n"
     ]
    }
   ],
   "source": [
    "import sys # necessary for exiting the game\n",
    "import pygame\n",
    "\n",
    "pygame.init() # this will start-up pygame\n",
    "\n",
    "pygame.display.set_caption(\"ninja game\") # setting the window name\n",
    "screen = pygame.display.set_mode((640, 480)) # very similar to \"root\" in tkinter; .set_mode() creates the window (a bit misleading)\n",
    "\n",
    "clock = pygame.time.Clock() # helps set our FPS\n",
    "\n",
    "while True: # game loop in the form of an infinite loop\n",
    "    for event in pygame.event.get():\n",
    "        f\"\"\"\n",
    "        In SDL, you have full control over input handling.\n",
    "        If you don't ask for the input (or events), there's no input the machine can recognize (for an application).\n",
    "        This is why when you plainly run 'pygame.init()' you get a window popping up that immediately doesn't respond.\n",
    "        This for loop gets all events and processes them here\n",
    "        \"\"\"\n",
    "        if event.type == pygame.QUIT: # event for user closing the window\n",
    "            pygame.quit() # will just close pygame\n",
    "            sys.exit() # exits the application\n",
    "\n",
    "    pygame.display.update() # always necessary; updates the frame\n",
    "    clock.tick(60) # setting our FPS to 60 so our CPU doesn't burn down"
   ]
  },
  {
   "cell_type": "markdown",
   "id": "6fced9c7-3cf0-41e8-b96d-5e674c3d953b",
   "metadata": {
    "jp-MarkdownHeadingCollapsed": true
   },
   "source": [
    "### __1.2__ Using `class` and OOP"
   ]
  },
  {
   "cell_type": "code",
   "execution_count": 8,
   "id": "1dc4ce53-7d8c-4d06-8997-fbb9fd3d4600",
   "metadata": {},
   "outputs": [
    {
     "ename": "SystemExit",
     "evalue": "",
     "output_type": "error",
     "traceback": [
      "An exception has occurred, use %tb to see the full traceback.\n",
      "\u001b[1;31mSystemExit\u001b[0m\n"
     ]
    }
   ],
   "source": [
    "import sys\n",
    "import pygame\n",
    "\n",
    "class Game:\n",
    "    def __init__(self):\n",
    "        pygame.init()\n",
    "        \n",
    "        pygame.display.set_caption(\"ninja game\")\n",
    "        self.screen = pygame.display.set_mode((640, 480))\n",
    "        \n",
    "        self.clock = pygame.time.Clock()\n",
    "\n",
    "        self.img = pygame.image.load(\"data/images/clouds/cloud_1.png\") # .png is typically recommended because its lossless\n",
    "    def run(self):\n",
    "        while True:\n",
    "            self.screen.blit(self.img, (100, 200)) # .blit() is used to put images onto our screen\n",
    "            for event in pygame.event.get():\n",
    "                if event.type == pygame.QUIT:\n",
    "                    pygame.quit() \n",
    "                    sys.exit()\n",
    "        \n",
    "            pygame.display.update()\n",
    "            self.clock.tick(60) # self here is important\n",
    "\n",
    "Game().run() # call our object and run it"
   ]
  },
  {
   "cell_type": "markdown",
   "id": "967d6d7f-969b-4368-ad2e-9bab8a948c8d",
   "metadata": {
    "jp-MarkdownHeadingCollapsed": true
   },
   "source": [
    "### __1.3__ Images and Inputs"
   ]
  },
  {
   "cell_type": "code",
   "execution_count": 12,
   "id": "cabd537a-9a9f-42f9-bf88-cb12460ff3a9",
   "metadata": {},
   "outputs": [
    {
     "ename": "SystemExit",
     "evalue": "",
     "output_type": "error",
     "traceback": [
      "An exception has occurred, use %tb to see the full traceback.\n",
      "\u001b[1;31mSystemExit\u001b[0m\n"
     ]
    }
   ],
   "source": [
    "import sys\n",
    "import pygame\n",
    "\n",
    "class Game:\n",
    "    def __init__(self):\n",
    "        pygame.init()\n",
    "        \n",
    "        pygame.display.set_caption(\"ninja game\")\n",
    "        self.screen = pygame.display.set_mode((640, 480))\n",
    "        \n",
    "        self.clock = pygame.time.Clock()\n",
    "\n",
    "        self.img = pygame.image.load(\"data/images/clouds/cloud_1.png\")\n",
    "        f\"\"\"\n",
    "        Without the following attribute, the cloud image may be seen with some black pixels.\n",
    "        The issue here is that the transparent pixels of the image isn't being displayed properly.\n",
    "        There are ways to use the transparency built-in the image, but setting the pure black RGB\n",
    "        value as transparent.\n",
    "        \"\"\"\n",
    "        self.img.set_colorkey((0, 0, 0)) \n",
    "        \n",
    "        self.img_pos = [160, 260]\n",
    "        self.movement = [False, False]\n",
    "    def run(self):\n",
    "        while True:\n",
    "            self.screen.fill((14, 219, 248)) # .fill() will take color in RGB value; helps hide the \"trail\" that moving images would produce\n",
    "            f\"\"\"\n",
    "            An interesting interaction between boolean datatypes:\n",
    "            The + and - operators are defined for booleans s.t.\n",
    "            it can perform arithmetic with 'True' being '1' and\n",
    "            'False' being '0', e.g.,\n",
    "            \n",
    "            >>> True - False\n",
    "            1\n",
    "            >>> True + True\n",
    "            2\n",
    "            \n",
    "            ... and etc.\n",
    "\n",
    "            Can technically be considered an implicit integer conversion\n",
    "            of booleans.\n",
    "\n",
    "            The result is for the right-side of the following code:\n",
    "            (1) holding down both keys will return 0;\n",
    "            (2) holding down just down will return 1;\n",
    "            (3) holding down just up will return -1;\n",
    "            and (4) doing nothing will return 0.\n",
    "            Essential helps calculate how much the position should change\n",
    "            (then we can scale the rate of movement with a number).\n",
    "            \"\"\"\n",
    "            self.img_pos[1] += 5*(self.movement[1] - self.movement[0])\n",
    "            \n",
    "            f\"\"\"\n",
    "            .blit() puts the loaded image on line 13 onto the screen\n",
    "            The tuple passed is the coordinate to place the image;\n",
    "            top left of the window is the origin.\n",
    "            \n",
    "            .blit() is essentially a memory copy onto another 'surface',\n",
    "            where 'surface' refers to simply an image (e.g., the main\n",
    "            window itself is a surface as well, a special surface).\n",
    "            \"\"\"\n",
    "            self.screen.blit(self.img, self.img_pos) # originally was (100, 200) \n",
    "            \n",
    "            for event in pygame.event.get(): # remember we get all the events with this line\n",
    "                if event.type == pygame.QUIT:\n",
    "                    pygame.quit() \n",
    "                    sys.exit()\n",
    "                if event.type == pygame.KEYDOWN: # detects some key pressed from the user\n",
    "                    f\"\"\"\n",
    "                    These events are generated upon pressing down\n",
    "                    the key, meaning holding down the key won't\n",
    "                    repeat the same action for whatever the duration\n",
    "                    it's being pressed down for.\n",
    "                    \"\"\"\n",
    "                    if event.key == pygame.K_UP: # this is the up key\n",
    "                        self.movement[0] = True\n",
    "                    if event.key == pygame.K_DOWN:\n",
    "                        self.movement[1] = True\n",
    "                if event.type == pygame.KEYUP: # same thing except for keys being lifted up\n",
    "                    if event.key == pygame.K_UP:\n",
    "                        self.movement[0] = False # set the movement attribute back to false\n",
    "                    if event.key == pygame.K_DOWN:\n",
    "                        self.movement[1] = False # overall we're updating self.movement iff keys are pressed down\n",
    "            pygame.display.update()\n",
    "            self.clock.tick(60)\n",
    "\n",
    "Game().run()"
   ]
  },
  {
   "cell_type": "markdown",
   "id": "a7172441-db7e-4db3-b618-3358ff62cc1f",
   "metadata": {},
   "source": [
    "It is here that _DaFluffyPotato_ disclaims that for the rest of the tutorial the arrow keys would be dedicated as the movement keys (and $\\mathrm{X}$ and $\\mathrm{C}$ would be dedicated as the ability keys).\n",
    "\n",
    "He acknowledges that this is typically an unpopular choice for video games (for $\\mathrm{WASD}$ is indeed the more popular choice for movement), but apparently $\\mathrm{WASD}$ in setup isn't universal across all keyboard layout (_i.e._, $\\mathrm{WASD}$ are not in the usual positions for a Dvorak keyboard)$-$ conversely all keyboard has the same arrow keys and $\\mathrm{X}$ and $\\mathrm{C}$ are _typically_ next to each other.\n",
    "\n",
    "Honestly this should hardly affect most users."
   ]
  },
  {
   "cell_type": "markdown",
   "id": "7f8282e8-932f-45c4-8241-543d3dee2f43",
   "metadata": {},
   "source": [
    "### __1.4__ Collisions"
   ]
  },
  {
   "cell_type": "markdown",
   "id": "4bf94bbc-7f48-433e-a125-06288cc0f6cc",
   "metadata": {},
   "source": [
    "Talking about collision detection (_i.e._, not about running into a wall, more so about sending responses when an area has been entered and _etc_.)"
   ]
  },
  {
   "cell_type": "code",
   "execution_count": null,
   "id": "6e88d307-65a5-4365-8462-db17483db1cd",
   "metadata": {},
   "outputs": [],
   "source": [
    "import sys\n",
    "import pygame\n",
    "\n",
    "class Game:\n",
    "    def __init__(self):\n",
    "        pygame.init()\n",
    "        \n",
    "        pygame.display.set_caption(\"ninja game\")\n",
    "        self.screen = pygame.display.set_mode((640, 480))\n",
    "        \n",
    "        self.clock = pygame.time.Clock()\n",
    "\n",
    "        self.img = pygame.image.load(\"data/images/clouds/cloud_1.png\")\n",
    "\n",
    "        self.img.set_colorkey((0, 0, 0)) \n",
    "        \n",
    "        self.img_pos = [160, 260]\n",
    "        self.movement = [False, False]\n",
    "\n",
    "        self.collision_area = pygame.Rect(50, 50, 300, 50)\n",
    "    def run(self):\n",
    "        while True:\n",
    "            self.screen.fill((14, 219, 248))\n",
    "            self.img_pos[1] += 5*(self.movement[1] - self.movement[0])\n",
    "            self.screen.blit(self.img, self.img_pos)\n",
    "\n",
    "            img_r = pygame.Rect( # equivalent to (self.img_pos[0], self.img_pos[1], self.img.get_width(), self.img.get_height())\n",
    "                *self.img_pos, *self.img.get_size()\n",
    "            )\n",
    "            if img_r.colliderect(self.collision_area):\n",
    "                pygame.draw.rect(self.screen, (0, 100, 255), self.collision_area)\n",
    "            else:\n",
    "                pygame.draw.rect(self.screen, (0, 50, 155), self.collision_area)\n",
    "            \n",
    "            for event in pygame.event.get():\n",
    "                if event.type == pygame.QUIT:\n",
    "                    pygame.quit() \n",
    "                    sys.exit()\n",
    "                if event.type == pygame.KEYDOWN:\n",
    "                    if event.key == pygame.K_UP:\n",
    "                        self.movement[0] = True\n",
    "                    if event.key == pygame.K_DOWN:\n",
    "                        self.movement[1] = True\n",
    "                if event.type == pygame.KEYUP:\n",
    "                    if event.key == pygame.K_UP:\n",
    "                        self.movement[0] = False\n",
    "                    if event.key == pygame.K_DOWN:\n",
    "                        self.movement[1] = False\n",
    "            pygame.display.update()\n",
    "            self.clock.tick(60)\n",
    "\n",
    "Game().run()"
   ]
  }
 ],
 "metadata": {
  "kernelspec": {
   "display_name": "Python 3 (ipykernel)",
   "language": "python",
   "name": "python3"
  },
  "language_info": {
   "codemirror_mode": {
    "name": "ipython",
    "version": 3
   },
   "file_extension": ".py",
   "mimetype": "text/x-python",
   "name": "python",
   "nbconvert_exporter": "python",
   "pygments_lexer": "ipython3",
   "version": "3.11.7"
  }
 },
 "nbformat": 4,
 "nbformat_minor": 5
}
