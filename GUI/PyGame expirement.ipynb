{
 "cells": [
  {
   "cell_type": "code",
   "execution_count": 1,
   "id": "985213ec",
   "metadata": {},
   "outputs": [
    {
     "name": "stdout",
     "output_type": "stream",
     "text": [
      "pygame-ce 2.5.3 (SDL 2.30.12, Python 3.11.4)\n"
     ]
    },
    {
     "ename": "SystemExit",
     "evalue": "",
     "output_type": "error",
     "traceback": [
      "An exception has occurred, use %tb to see the full traceback.\n",
      "\u001b[0;31mSystemExit\u001b[0m\n"
     ]
    },
    {
     "name": "stderr",
     "output_type": "stream",
     "text": [
      "/Users/talfine/anaconda3/lib/python3.11/site-packages/IPython/core/interactiveshell.py:3513: UserWarning: To exit: use 'exit', 'quit', or Ctrl-D.\n",
      "  warn(\"To exit: use 'exit', 'quit', or Ctrl-D.\", stacklevel=1)\n"
     ]
    }
   ],
   "source": [
    "import pygame, sys\n",
    "from button import Button\n",
    "\n",
    "pygame.init()\n",
    "\n",
    "SCREEN = pygame.display.set_mode((1280, 720))\n",
    "pygame.display.set_caption(\"Menu\")\n",
    "\n",
    "BG = pygame.image.load(\"assets/Background.png\")\n",
    "\n",
    "def get_font(size): # Returns Press-Start-2P in the desired size\n",
    "    return pygame.font.Font(\"assets/font.ttf\", size)\n",
    "\n",
    "def play():\n",
    "    while True:\n",
    "        PLAY_MOUSE_POS = pygame.mouse.get_pos()\n",
    "\n",
    "        SCREEN.fill(\"black\")\n",
    "\n",
    "        PLAY_TEXT = get_font(45).render(\"This is the PLAY screen.\", True, \"White\")\n",
    "        PLAY_RECT = PLAY_TEXT.get_rect(center=(640, 260))\n",
    "        SCREEN.blit(PLAY_TEXT, PLAY_RECT)\n",
    "\n",
    "        PLAY_BACK = Button(image=None, pos=(640, 460), \n",
    "                            text_input=\"BACK\", font=get_font(75), base_color=\"White\", hovering_color=\"Green\")\n",
    "\n",
    "        PLAY_BACK.changeColor(PLAY_MOUSE_POS)\n",
    "        PLAY_BACK.update(SCREEN)\n",
    "\n",
    "        for event in pygame.event.get():\n",
    "            if event.type == pygame.QUIT:\n",
    "                pygame.quit()\n",
    "                sys.exit()\n",
    "            if event.type == pygame.MOUSEBUTTONDOWN:\n",
    "                if PLAY_BACK.checkForInput(PLAY_MOUSE_POS):\n",
    "                    main_menu()\n",
    "\n",
    "        pygame.display.update()\n",
    "    \n",
    "def options():\n",
    "    while True:\n",
    "        OPTIONS_MOUSE_POS = pygame.mouse.get_pos()\n",
    "\n",
    "        SCREEN.fill(\"white\")\n",
    "\n",
    "        OPTIONS_TEXT = get_font(45).render(\"This is the OPTIONS screen.\", True, \"Black\")\n",
    "        OPTIONS_RECT = OPTIONS_TEXT.get_rect(center=(640, 260))\n",
    "        SCREEN.blit(OPTIONS_TEXT, OPTIONS_RECT)\n",
    "\n",
    "        OPTIONS_BACK = Button(image=None, pos=(640, 460), \n",
    "                            text_input=\"BACK\", font=get_font(75), base_color=\"Black\", hovering_color=\"Green\")\n",
    "\n",
    "        OPTIONS_BACK.changeColor(OPTIONS_MOUSE_POS)\n",
    "        OPTIONS_BACK.update(SCREEN)\n",
    "\n",
    "        for event in pygame.event.get():\n",
    "            if event.type == pygame.QUIT:\n",
    "                pygame.quit()\n",
    "                sys.exit()\n",
    "            if event.type == pygame.MOUSEBUTTONDOWN:\n",
    "                if OPTIONS_BACK.checkForInput(OPTIONS_MOUSE_POS):\n",
    "                    main_menu()\n",
    "\n",
    "        pygame.display.update()\n",
    "\n",
    "def main_menu():\n",
    "    while True:\n",
    "        SCREEN.blit(BG, (0, 0))\n",
    "\n",
    "        MENU_MOUSE_POS = pygame.mouse.get_pos()\n",
    "\n",
    "        MENU_TEXT = get_font(100).render(\"MAIN MENU\", True, \"#b68f40\")\n",
    "        MENU_RECT = MENU_TEXT.get_rect(center=(640, 100))\n",
    "\n",
    "        PLAY_BUTTON = Button(image=pygame.image.load(\"assets/Play Rect.png\"), pos=(640, 250), \n",
    "                            text_input=\"PLAY\", font=get_font(75), base_color=\"#d7fcd4\", hovering_color=\"White\")\n",
    "        OPTIONS_BUTTON = Button(image=pygame.image.load(\"assets/Options Rect.png\"), pos=(640, 400), \n",
    "                            text_input=\"OPTIONS\", font=get_font(75), base_color=\"#d7fcd4\", hovering_color=\"White\")\n",
    "        QUIT_BUTTON = Button(image=pygame.image.load(\"assets/Quit Rect.png\"), pos=(640, 550), \n",
    "                            text_input=\"QUIT\", font=get_font(75), base_color=\"#d7fcd4\", hovering_color=\"White\")\n",
    "\n",
    "        SCREEN.blit(MENU_TEXT, MENU_RECT)\n",
    "\n",
    "        for button in [PLAY_BUTTON, OPTIONS_BUTTON, QUIT_BUTTON]:\n",
    "            button.changeColor(MENU_MOUSE_POS)\n",
    "            button.update(SCREEN)\n",
    "        \n",
    "        for event in pygame.event.get():\n",
    "            if event.type == pygame.QUIT:\n",
    "                pygame.quit()\n",
    "                sys.exit()\n",
    "            if event.type == pygame.MOUSEBUTTONDOWN:\n",
    "                if PLAY_BUTTON.checkForInput(MENU_MOUSE_POS):\n",
    "                    play()\n",
    "                if OPTIONS_BUTTON.checkForInput(MENU_MOUSE_POS):\n",
    "                    options()\n",
    "                if QUIT_BUTTON.checkForInput(MENU_MOUSE_POS):\n",
    "                    pygame.quit()\n",
    "                    sys.exit()\n",
    "\n",
    "        pygame.display.update()\n",
    "\n",
    "main_menu()"
   ]
  },
  {
   "cell_type": "code",
   "execution_count": 3,
   "id": "ac93ff7b",
   "metadata": {},
   "outputs": [
    {
     "name": "stdout",
     "output_type": "stream",
     "text": [
      "YF.download() has changed argument auto_adjust default to True\n"
     ]
    },
    {
     "name": "stderr",
     "output_type": "stream",
     "text": [
      "[*********************100%***********************]  1 of 1 completed\n"
     ]
    },
    {
     "ename": "TypeError",
     "evalue": "DataFrame._get_value() missing 1 required positional argument: 'col'",
     "output_type": "error",
     "traceback": [
      "\u001b[0;31m---------------------------------------------------------------------------\u001b[0m",
      "\u001b[0;31mTypeError\u001b[0m                                 Traceback (most recent call last)",
      "Cell \u001b[0;32mIn[3], line 58\u001b[0m\n\u001b[1;32m     55\u001b[0m pygame\u001b[38;5;241m.\u001b[39mdraw\u001b[38;5;241m.\u001b[39mrect(screen, (\u001b[38;5;241m20\u001b[39m, \u001b[38;5;241m20\u001b[39m, \u001b[38;5;241m20\u001b[39m), VOL_AREA)\n\u001b[1;32m     57\u001b[0m \u001b[38;5;66;03m# Price line\u001b[39;00m\n\u001b[0;32m---> 58\u001b[0m pts \u001b[38;5;241m=\u001b[39m [(x_of(i), y_price(prices\u001b[38;5;241m.\u001b[39miat[i])) \u001b[38;5;28;01mfor\u001b[39;00m i \u001b[38;5;129;01min\u001b[39;00m \u001b[38;5;28mrange\u001b[39m(n)]\n\u001b[1;32m     59\u001b[0m pygame\u001b[38;5;241m.\u001b[39mdraw\u001b[38;5;241m.\u001b[39mlines(screen, (\u001b[38;5;241m0\u001b[39m, \u001b[38;5;241m255\u001b[39m, \u001b[38;5;241m0\u001b[39m), \u001b[38;5;28;01mFalse\u001b[39;00m, pts, \u001b[38;5;241m2\u001b[39m)\n\u001b[1;32m     61\u001b[0m \u001b[38;5;66;03m# Volume bars\u001b[39;00m\n",
      "Cell \u001b[0;32mIn[3], line 58\u001b[0m, in \u001b[0;36m<listcomp>\u001b[0;34m(.0)\u001b[0m\n\u001b[1;32m     55\u001b[0m pygame\u001b[38;5;241m.\u001b[39mdraw\u001b[38;5;241m.\u001b[39mrect(screen, (\u001b[38;5;241m20\u001b[39m, \u001b[38;5;241m20\u001b[39m, \u001b[38;5;241m20\u001b[39m), VOL_AREA)\n\u001b[1;32m     57\u001b[0m \u001b[38;5;66;03m# Price line\u001b[39;00m\n\u001b[0;32m---> 58\u001b[0m pts \u001b[38;5;241m=\u001b[39m [(x_of(i), y_price(prices\u001b[38;5;241m.\u001b[39miat[i])) \u001b[38;5;28;01mfor\u001b[39;00m i \u001b[38;5;129;01min\u001b[39;00m \u001b[38;5;28mrange\u001b[39m(n)]\n\u001b[1;32m     59\u001b[0m pygame\u001b[38;5;241m.\u001b[39mdraw\u001b[38;5;241m.\u001b[39mlines(screen, (\u001b[38;5;241m0\u001b[39m, \u001b[38;5;241m255\u001b[39m, \u001b[38;5;241m0\u001b[39m), \u001b[38;5;28;01mFalse\u001b[39;00m, pts, \u001b[38;5;241m2\u001b[39m)\n\u001b[1;32m     61\u001b[0m \u001b[38;5;66;03m# Volume bars\u001b[39;00m\n",
      "File \u001b[0;32m~/anaconda3/lib/python3.11/site-packages/pandas/core/indexing.py:2382\u001b[0m, in \u001b[0;36m_ScalarAccessIndexer.__getitem__\u001b[0;34m(self, key)\u001b[0m\n\u001b[1;32m   2379\u001b[0m         \u001b[38;5;28;01mraise\u001b[39;00m \u001b[38;5;167;01mValueError\u001b[39;00m(\u001b[38;5;124m\"\u001b[39m\u001b[38;5;124mInvalid call for scalar access (getting)!\u001b[39m\u001b[38;5;124m\"\u001b[39m)\n\u001b[1;32m   2381\u001b[0m key \u001b[38;5;241m=\u001b[39m \u001b[38;5;28mself\u001b[39m\u001b[38;5;241m.\u001b[39m_convert_key(key)\n\u001b[0;32m-> 2382\u001b[0m \u001b[38;5;28;01mreturn\u001b[39;00m \u001b[38;5;28mself\u001b[39m\u001b[38;5;241m.\u001b[39mobj\u001b[38;5;241m.\u001b[39m_get_value(\u001b[38;5;241m*\u001b[39mkey, takeable\u001b[38;5;241m=\u001b[39m\u001b[38;5;28mself\u001b[39m\u001b[38;5;241m.\u001b[39m_takeable)\n",
      "\u001b[0;31mTypeError\u001b[0m: DataFrame._get_value() missing 1 required positional argument: 'col'"
     ]
    }
   ],
   "source": []
  },
  {
   "cell_type": "code",
   "execution_count": 2,
   "id": "3f74c630",
   "metadata": {},
   "outputs": [
    {
     "name": "stdout",
     "output_type": "stream",
     "text": [
      "Collecting yfinance\n",
      "  Downloading yfinance-0.2.56-py2.py3-none-any.whl.metadata (5.8 kB)\n",
      "Requirement already satisfied: pandas>=1.3.0 in /Users/talfine/anaconda3/lib/python3.11/site-packages (from yfinance) (1.5.3)\n",
      "Requirement already satisfied: numpy>=1.16.5 in /Users/talfine/anaconda3/lib/python3.11/site-packages (from yfinance) (1.24.3)\n",
      "Requirement already satisfied: requests>=2.31 in /Users/talfine/anaconda3/lib/python3.11/site-packages (from yfinance) (2.31.0)\n",
      "Collecting multitasking>=0.0.7 (from yfinance)\n",
      "  Downloading multitasking-0.0.11-py3-none-any.whl.metadata (5.5 kB)\n",
      "Requirement already satisfied: platformdirs>=2.0.0 in /Users/talfine/anaconda3/lib/python3.11/site-packages (from yfinance) (2.5.2)\n",
      "Requirement already satisfied: pytz>=2022.5 in /Users/talfine/anaconda3/lib/python3.11/site-packages (from yfinance) (2022.7)\n",
      "Collecting frozendict>=2.3.4 (from yfinance)\n",
      "  Downloading frozendict-2.4.6-py311-none-any.whl.metadata (23 kB)\n",
      "Collecting peewee>=3.16.2 (from yfinance)\n",
      "  Downloading peewee-3.17.9.tar.gz (3.0 MB)\n",
      "\u001b[2K     \u001b[90m━━━━━━━━━━━━━━━━━━━━━━━━━━━━━━━━━━━━━━━━\u001b[0m \u001b[32m3.0/3.0 MB\u001b[0m \u001b[31m14.6 MB/s\u001b[0m eta \u001b[36m0:00:00\u001b[0m00:01\u001b[0m00:01\u001b[0m\n",
      "\u001b[?25h  Installing build dependencies ... \u001b[?25ldone\n",
      "\u001b[?25h  Getting requirements to build wheel ... \u001b[?25ldone\n",
      "\u001b[?25h  Preparing metadata (pyproject.toml) ... \u001b[?25ldone\n",
      "\u001b[?25hRequirement already satisfied: beautifulsoup4>=4.11.1 in /Users/talfine/anaconda3/lib/python3.11/site-packages (from yfinance) (4.12.2)\n",
      "Requirement already satisfied: soupsieve>1.2 in /Users/talfine/anaconda3/lib/python3.11/site-packages (from beautifulsoup4>=4.11.1->yfinance) (2.4)\n",
      "Requirement already satisfied: python-dateutil>=2.8.1 in /Users/talfine/anaconda3/lib/python3.11/site-packages (from pandas>=1.3.0->yfinance) (2.8.2)\n",
      "Requirement already satisfied: charset-normalizer<4,>=2 in /Users/talfine/anaconda3/lib/python3.11/site-packages (from requests>=2.31->yfinance) (2.0.4)\n",
      "Requirement already satisfied: idna<4,>=2.5 in /Users/talfine/anaconda3/lib/python3.11/site-packages (from requests>=2.31->yfinance) (3.4)\n",
      "Requirement already satisfied: urllib3<3,>=1.21.1 in /Users/talfine/anaconda3/lib/python3.11/site-packages (from requests>=2.31->yfinance) (1.26.16)\n",
      "Requirement already satisfied: certifi>=2017.4.17 in /Users/talfine/anaconda3/lib/python3.11/site-packages (from requests>=2.31->yfinance) (2023.7.22)\n",
      "Requirement already satisfied: six>=1.5 in /Users/talfine/anaconda3/lib/python3.11/site-packages (from python-dateutil>=2.8.1->pandas>=1.3.0->yfinance) (1.16.0)\n",
      "Downloading yfinance-0.2.56-py2.py3-none-any.whl (113 kB)\n",
      "\u001b[2K   \u001b[90m━━━━━━━━━━━━━━━━━━━━━━━━━━━━━━━━━━━━━━━\u001b[0m \u001b[32m113.7/113.7 kB\u001b[0m \u001b[31m935.6 kB/s\u001b[0m eta \u001b[36m0:00:00\u001b[0m\u001b[36m0:00:01\u001b[0m\n",
      "\u001b[?25hDownloading frozendict-2.4.6-py311-none-any.whl (16 kB)\n",
      "Downloading multitasking-0.0.11-py3-none-any.whl (8.5 kB)\n",
      "Building wheels for collected packages: peewee\n",
      "  Building wheel for peewee (pyproject.toml) ... \u001b[?25ldone\n",
      "\u001b[?25h  Created wheel for peewee: filename=peewee-3.17.9-cp311-cp311-macosx_11_0_arm64.whl size=264470 sha256=e7e16b1ae0eea0cb8056b87c7a2c3aafee6078127c9787a201e2de4bafe6bf3e\n",
      "  Stored in directory: /Users/talfine/Library/Caches/pip/wheels/f4/14/e4/50c88c865833085aeb91e2bd40e3a683ff434806386b8ee7bc\n",
      "Successfully built peewee\n",
      "Installing collected packages: peewee, multitasking, frozendict, yfinance\n",
      "Successfully installed frozendict-2.4.6 multitasking-0.0.11 peewee-3.17.9 yfinance-0.2.56\n",
      "\n",
      "\u001b[1m[\u001b[0m\u001b[34;49mnotice\u001b[0m\u001b[1;39;49m]\u001b[0m\u001b[39;49m A new release of pip is available: \u001b[0m\u001b[31;49m24.0\u001b[0m\u001b[39;49m -> \u001b[0m\u001b[32;49m25.1\u001b[0m\n",
      "\u001b[1m[\u001b[0m\u001b[34;49mnotice\u001b[0m\u001b[1;39;49m]\u001b[0m\u001b[39;49m To update, run: \u001b[0m\u001b[32;49mpip install --upgrade pip\u001b[0m\n"
     ]
    }
   ],
   "source": [
    "!pip install yfinance"
   ]
  },
  {
   "cell_type": "code",
   "execution_count": 4,
   "id": "93706287",
   "metadata": {},
   "outputs": [
    {
     "name": "stderr",
     "output_type": "stream",
     "text": [
      "[*********************100%***********************]  1 of 1 completed\n"
     ]
    },
    {
     "ename": "TypeError",
     "evalue": "points must be number pairs",
     "output_type": "error",
     "traceback": [
      "\u001b[0;31m---------------------------------------------------------------------------\u001b[0m",
      "\u001b[0;31mTypeError\u001b[0m                                 Traceback (most recent call last)",
      "Cell \u001b[0;32mIn[4], line 60\u001b[0m\n\u001b[1;32m     58\u001b[0m \u001b[38;5;66;03m# Draw the price line\u001b[39;00m\n\u001b[1;32m     59\u001b[0m pts \u001b[38;5;241m=\u001b[39m [(x_of(i), y_price(price_vals[i])) \u001b[38;5;28;01mfor\u001b[39;00m i \u001b[38;5;129;01min\u001b[39;00m \u001b[38;5;28mrange\u001b[39m(n)]\n\u001b[0;32m---> 60\u001b[0m pygame\u001b[38;5;241m.\u001b[39mdraw\u001b[38;5;241m.\u001b[39mlines(screen, (\u001b[38;5;241m0\u001b[39m, \u001b[38;5;241m255\u001b[39m, \u001b[38;5;241m0\u001b[39m), \u001b[38;5;28;01mFalse\u001b[39;00m, pts, \u001b[38;5;241m2\u001b[39m)\n\u001b[1;32m     62\u001b[0m \u001b[38;5;66;03m# Draw volume bars\u001b[39;00m\n\u001b[1;32m     63\u001b[0m bar_w \u001b[38;5;241m=\u001b[39m PRICE_AREA\u001b[38;5;241m.\u001b[39mwidth \u001b[38;5;241m/\u001b[39m n\n",
      "\u001b[0;31mTypeError\u001b[0m: points must be number pairs"
     ]
    }
   ],
   "source": []
  },
  {
   "cell_type": "code",
   "execution_count": null,
   "id": "2afc2f22",
   "metadata": {},
   "outputs": [
    {
     "name": "stderr",
     "output_type": "stream",
     "text": [
      "[*********************100%***********************]  1 of 1 completed\n"
     ]
    }
   ],
   "source": []
  },
  {
   "cell_type": "code",
   "execution_count": 1,
   "id": "710bb4ba",
   "metadata": {},
   "outputs": [
    {
     "name": "stdout",
     "output_type": "stream",
     "text": [
      "pygame-ce 2.5.3 (SDL 2.30.12, Python 3.11.4)\n",
      "YF.download() has changed argument auto_adjust default to True\n"
     ]
    },
    {
     "name": "stderr",
     "output_type": "stream",
     "text": [
      "[*********************100%***********************]  1 of 1 completed\n",
      "[*********************100%***********************]  1 of 1 completed\n",
      "[*********************100%***********************]  1 of 1 completed\n"
     ]
    },
    {
     "ename": "SystemExit",
     "evalue": "",
     "output_type": "error",
     "traceback": [
      "An exception has occurred, use %tb to see the full traceback.\n",
      "\u001b[0;31mSystemExit\u001b[0m\n"
     ]
    },
    {
     "name": "stderr",
     "output_type": "stream",
     "text": [
      "/Users/talfine/anaconda3/lib/python3.11/site-packages/IPython/core/interactiveshell.py:3513: UserWarning: To exit: use 'exit', 'quit', or Ctrl-D.\n",
      "  warn(\"To exit: use 'exit', 'quit', or Ctrl-D.\", stacklevel=1)\n"
     ]
    }
   ],
   "source": []
  },
  {
   "cell_type": "code",
   "execution_count": 1,
   "id": "21462f66",
   "metadata": {},
   "outputs": [
    {
     "name": "stdout",
     "output_type": "stream",
     "text": [
      "pygame-ce 2.5.3 (SDL 2.30.12, Python 3.11.4)\n",
      "YF.download() has changed argument auto_adjust default to True\n"
     ]
    },
    {
     "name": "stderr",
     "output_type": "stream",
     "text": [
      "[*********************100%***********************]  1 of 1 completed\n"
     ]
    },
    {
     "ename": "TypeError",
     "evalue": "points must be number pairs",
     "output_type": "error",
     "traceback": [
      "\u001b[0;31m---------------------------------------------------------------------------\u001b[0m",
      "\u001b[0;31mTypeError\u001b[0m                                 Traceback (most recent call last)",
      "Cell \u001b[0;32mIn[1], line 60\u001b[0m\n\u001b[1;32m     58\u001b[0m \u001b[38;5;66;03m# Draw the price line\u001b[39;00m\n\u001b[1;32m     59\u001b[0m pts \u001b[38;5;241m=\u001b[39m [(x_of(i), y_price(price_vals[i])) \u001b[38;5;28;01mfor\u001b[39;00m i \u001b[38;5;129;01min\u001b[39;00m \u001b[38;5;28mrange\u001b[39m(n)]\n\u001b[0;32m---> 60\u001b[0m pygame\u001b[38;5;241m.\u001b[39mdraw\u001b[38;5;241m.\u001b[39mlines(screen, (\u001b[38;5;241m0\u001b[39m, \u001b[38;5;241m255\u001b[39m, \u001b[38;5;241m0\u001b[39m), \u001b[38;5;28;01mFalse\u001b[39;00m, pts, \u001b[38;5;241m2\u001b[39m)\n\u001b[1;32m     62\u001b[0m \u001b[38;5;66;03m# Draw volume bars\u001b[39;00m\n\u001b[1;32m     63\u001b[0m bar_w \u001b[38;5;241m=\u001b[39m PRICE_AREA\u001b[38;5;241m.\u001b[39mwidth \u001b[38;5;241m/\u001b[39m n\n",
      "\u001b[0;31mTypeError\u001b[0m: points must be number pairs"
     ]
    }
   ],
   "source": []
  },
  {
   "cell_type": "code",
   "execution_count": null,
   "id": "e150ec81",
   "metadata": {},
   "outputs": [
    {
     "name": "stdout",
     "output_type": "stream",
     "text": [
      "pygame-ce 2.5.3 (SDL 2.30.12, Python 3.11.4)\n",
      "YF.download() has changed argument auto_adjust default to True\n"
     ]
    },
    {
     "name": "stderr",
     "output_type": "stream",
     "text": [
      "[*********************100%***********************]  3 of 3 completed\n"
     ]
    }
   ],
   "source": []
  },
  {
   "cell_type": "code",
   "execution_count": 1,
   "id": "3539ee9d",
   "metadata": {},
   "outputs": [
    {
     "name": "stdout",
     "output_type": "stream",
     "text": [
      "pygame-ce 2.5.3 (SDL 2.30.12, Python 3.11.4)\n",
      "YF.download() has changed argument auto_adjust default to True\n"
     ]
    },
    {
     "name": "stderr",
     "output_type": "stream",
     "text": [
      "[*********************100%***********************]  3 of 3 completed\n"
     ]
    },
    {
     "ename": "ValueError",
     "evalue": "points argument must contain 2 or more points",
     "output_type": "error",
     "traceback": [
      "\u001b[0;31m---------------------------------------------------------------------------\u001b[0m",
      "\u001b[0;31mValueError\u001b[0m                                Traceback (most recent call last)",
      "Cell \u001b[0;32mIn[1], line 149\u001b[0m\n\u001b[1;32m    147\u001b[0m     draw_menu()\n\u001b[1;32m    148\u001b[0m \u001b[38;5;28;01melif\u001b[39;00m state \u001b[38;5;241m==\u001b[39m \u001b[38;5;124m\"\u001b[39m\u001b[38;5;124mGAME\u001b[39m\u001b[38;5;124m\"\u001b[39m:\n\u001b[0;32m--> 149\u001b[0m     draw_game()\n\u001b[1;32m    151\u001b[0m pygame\u001b[38;5;241m.\u001b[39mdisplay\u001b[38;5;241m.\u001b[39mupdate()\n\u001b[1;32m    152\u001b[0m clock\u001b[38;5;241m.\u001b[39mtick(FPS)\n",
      "Cell \u001b[0;32mIn[1], line 111\u001b[0m, in \u001b[0;36mdraw_game\u001b[0;34m()\u001b[0m\n\u001b[1;32m    109\u001b[0m \u001b[38;5;28;01mfor\u001b[39;00m name, vals \u001b[38;5;129;01min\u001b[39;00m price_vals\u001b[38;5;241m.\u001b[39mitems():\n\u001b[1;32m    110\u001b[0m     pts \u001b[38;5;241m=\u001b[39m [(x_of(i), y_p(vals[i])) \u001b[38;5;28;01mfor\u001b[39;00m i \u001b[38;5;129;01min\u001b[39;00m \u001b[38;5;28mrange\u001b[39m(current_year_idx\u001b[38;5;241m+\u001b[39m\u001b[38;5;241m1\u001b[39m)]\n\u001b[0;32m--> 111\u001b[0m     pygame\u001b[38;5;241m.\u001b[39mdraw\u001b[38;5;241m.\u001b[39mlines(screen, colors[name], \u001b[38;5;28;01mFalse\u001b[39;00m, pts, \u001b[38;5;241m3\u001b[39m)\n\u001b[1;32m    113\u001b[0m \u001b[38;5;66;03m# Investment buttons\u001b[39;00m\n\u001b[1;32m    114\u001b[0m mpos \u001b[38;5;241m=\u001b[39m pygame\u001b[38;5;241m.\u001b[39mmouse\u001b[38;5;241m.\u001b[39mget_pos()\n",
      "\u001b[0;31mValueError\u001b[0m: points argument must contain 2 or more points"
     ]
    }
   ],
   "source": []
  },
  {
   "cell_type": "code",
   "execution_count": null,
   "id": "492451be",
   "metadata": {},
   "outputs": [
    {
     "name": "stderr",
     "output_type": "stream",
     "text": [
      "[*********************100%***********************]  3 of 3 completed\n"
     ]
    }
   ],
   "source": []
  },
  {
   "cell_type": "code",
   "execution_count": null,
   "id": "80a32fa1",
   "metadata": {},
   "outputs": [
    {
     "name": "stdout",
     "output_type": "stream",
     "text": [
      "pygame-ce 2.5.3 (SDL 2.30.12, Python 3.11.4)\n",
      "YF.download() has changed argument auto_adjust default to True\n"
     ]
    },
    {
     "name": "stderr",
     "output_type": "stream",
     "text": [
      "[*********************100%***********************]  3 of 3 completed\n"
     ]
    }
   ],
   "source": []
  },
  {
   "cell_type": "code",
   "execution_count": null,
   "id": "5df64aeb",
   "metadata": {},
   "outputs": [
    {
     "name": "stdout",
     "output_type": "stream",
     "text": [
      "pygame-ce 2.5.3 (SDL 2.30.12, Python 3.11.4)\n",
      "YF.download() has changed argument auto_adjust default to True\n"
     ]
    },
    {
     "name": "stderr",
     "output_type": "stream",
     "text": [
      "[*********************100%***********************]  3 of 3 completed\n"
     ]
    }
   ],
   "source": [
    "import pygame\n",
    "import sys\n",
    "import pandas as pd\n",
    "import yfinance as yf\n",
    "import datetime\n",
    "\n",
    "# ------------------ SETTINGS ------------------\n",
    "SCREEN_WIDTH, SCREEN_HEIGHT = 1280, 720\n",
    "FPS = 30\n",
    "FONT_PATH = \"assets/font.ttf\"  # Pixel font for retro aesthetic\n",
    "BG_IMAGE = \"assets/Background.png\"\n",
    "\n",
    "# Companies to invest in and their tickers\n",
    "COMPANIES = {\n",
    "    \"Nintendo\": \"NTDOY\",\n",
    "    \"TakeTwo\": \"TTWO\",\n",
    "    \"EA\": \"EA\"\n",
    "}\n",
    "START_YEAR = 2000\n",
    "START_CAPITAL = 10000\n",
    "\n",
    "# ------------------ INITIALIZATION ------------------\n",
    "pygame.init()\n",
    "screen = pygame.display.set_mode((SCREEN_WIDTH, SCREEN_HEIGHT))\n",
    "pygame.display.set_caption(\"PixelInvest: Retro Stock Simulator\")\n",
    "clock = pygame.time.Clock()\n",
    "\n",
    "# Load font and background\n",
    "pixel_font = lambda size: pygame.font.Font(FONT_PATH, size)\n",
    "bg_image = pygame.image.load(BG_IMAGE).convert()\n",
    "\n",
    "# Button helper\n",
    "from button import Button\n",
    "\n",
    "def draw_button(btn, mouse_pos):\n",
    "    btn.changeColor(mouse_pos)\n",
    "    btn.update(screen)\n",
    "\n",
    "# ------------------ DATA FETCH ------------------\n",
    "end_date = datetime.date.today().isoformat()\n",
    "start_date = f\"{START_YEAR}-01-01\"\n",
    "df_raw = yf.download(list(COMPANIES.values()), start=start_date, end=end_date)[\"Close\"]\n",
    "# Resample to yearly close (last trading day of year)\n",
    "price_yearly = df_raw.resample('Y').last()\n",
    "years = price_yearly.index.year.tolist()\n",
    "\n",
    "# Prepare price arrays\n",
    "price_vals = {name: price_yearly[ticker].to_numpy() for name, ticker in COMPANIES.items()}\n",
    "n_years = len(years)\n",
    "\n",
    "# ------------------ GAME STATES ------------------\n",
    "state = \"MENU\"\n",
    "cash = START_CAPITAL\n",
    "current_year_idx = 0\n",
    "# Track shares held per company\n",
    "shares = {name: 0.0 for name in COMPANIES}\n",
    "\n",
    "# Buttons: Invest / Sell per company\n",
    "invest_btns = {}\n",
    "sell_btns = {}\n",
    "for i, name in enumerate(COMPANIES):\n",
    "    invest_btns[name] = Button(\n",
    "        image=None,\n",
    "        pos=(200 + i*300, SCREEN_HEIGHT - 120),\n",
    "        text_input=f\"Invest {name}\",\n",
    "        font=pixel_font(28),\n",
    "        base_color=\"White\",\n",
    "        hovering_color=\"Green\"\n",
    "    )\n",
    "    sell_btns[name] = Button(\n",
    "        image=None,\n",
    "        pos=(200 + i*300, SCREEN_HEIGHT - 70),\n",
    "        text_input=f\"Sell {name}\",\n",
    "        font=pixel_font(28),\n",
    "        base_color=\"White\",\n",
    "        hovering_color=\"Green\"\n",
    "    )\n",
    "\n",
    "# Main menu buttons\n",
    "play_btn = Button(\n",
    "    image=pygame.image.load(\"assets/Play Rect.png\"),\n",
    "    pos=(SCREEN_WIDTH//2, SCREEN_HEIGHT//2 - 50),\n",
    "    text_input=\"PLAY\",\n",
    "    font=pixel_font(48),\n",
    "    base_color=\"#d7fcd4\",\n",
    "    hovering_color=\"White\"\n",
    ")\n",
    "quit_btn = Button(\n",
    "    image=pygame.image.load(\"assets/Quit Rect.png\"),\n",
    "    pos=(SCREEN_WIDTH//2, SCREEN_HEIGHT//2 + 100),\n",
    "    text_input=\"QUIT\",\n",
    "    font=pixel_font(48),\n",
    "    base_color=\"#d7fcd4\",\n",
    "    hovering_color=\"White\"\n",
    ")\n",
    "\n",
    "# Back button for game screen\n",
    "back_btn = Button(\n",
    "    image=None,\n",
    "    pos=(80, 50),\n",
    "    text_input=\"BACK\",\n",
    "    font=pixel_font(24),\n",
    "    base_color=\"White\",\n",
    "    hovering_color=\"Green\"\n",
    ")\n",
    "\n",
    "# ------------------ DRAW FUNCTIONS ------------------\n",
    "def draw_menu():\n",
    "    screen.blit(bg_image, (0, 0))\n",
    "    title = pixel_font(72).render(\"PixelInvest\", True, \"#b68f40\")\n",
    "    screen.blit(title, title.get_rect(center=(SCREEN_WIDTH//2, 150)))\n",
    "    mpos = pygame.mouse.get_pos()\n",
    "    draw_button(play_btn, mpos)\n",
    "    draw_button(quit_btn, mpos)\n",
    "\n",
    "\n",
    "def draw_game():\n",
    "    global cash, current_year_idx\n",
    "    screen.fill((30, 30, 30))\n",
    "\n",
    "    # Header: Year & Cash\n",
    "    header_font = pixel_font(36)\n",
    "    year_surf = header_font.render(f\"Year: {years[current_year_idx]}\", True, \"#b68f40\")\n",
    "    cash_surf = header_font.render(f\"Cash: ${cash:,.0f}\", True, \"#ffffff\")\n",
    "    screen.blit(year_surf, (50, 30))\n",
    "    screen.blit(cash_surf, (50, 70))\n",
    "\n",
    "    # Chart area\n",
    "    chart_rect = pygame.Rect(100, 120, SCREEN_WIDTH - 400, 400)\n",
    "    pygame.draw.rect(screen, (20, 20, 20), chart_rect)\n",
    "\n",
    "    # Prepare scale\n",
    "    all_vals = []\n",
    "    for v in price_vals.values():\n",
    "        all_vals.extend(v[:current_year_idx+1])\n",
    "    mn, mx = min(all_vals), max(all_vals)\n",
    "    def x_of(i): return int(chart_rect.left + i * chart_rect.width / (n_years - 1))\n",
    "    def y_of(p): return int(chart_rect.bottom - (p - mn) / (mx - mn) * chart_rect.height)\n",
    "\n",
    "    colors = {\"Nintendo\": (255, 100, 100), \"TakeTwo\": (100, 255, 100), \"EA\": (100, 100, 255)}\n",
    "    for name, vals in price_vals.items():\n",
    "        pts = [(x_of(i), y_of(vals[i])) for i in range(current_year_idx+1)]\n",
    "        if len(pts) > 1:\n",
    "            pygame.draw.lines(screen, colors[name], False, pts, 3)\n",
    "\n",
    "    # Holdings panel\n",
    "    panel_rect = pygame.Rect(SCREEN_WIDTH - 280, 120, 240, 200)\n",
    "    pygame.draw.rect(screen, (20, 20, 20), panel_rect)\n",
    "    panel_font = pixel_font(24)\n",
    "    for idx, name in enumerate(COMPANIES):\n",
    "        text = f\"{name}: {shares[name]:.2f} sh\"\n",
    "        surf = panel_font.render(text, True, \"#ffffff\")\n",
    "        screen.blit(surf, (panel_rect.left + 10, panel_rect.top + 10 + idx * 40))\n",
    "\n",
    "    # Action buttons\n",
    "    mpos = pygame.mouse.get_pos()\n",
    "    if current_year_idx < n_years - 1:\n",
    "        for name in COMPANIES:\n",
    "            draw_button(invest_btns[name], mpos)\n",
    "            if shares[name] > 0:\n",
    "                draw_button(sell_btns[name], mpos)\n",
    "    else:\n",
    "        end_surf = header_font.render(f\"Game Over! Final Cash: ${cash:,.0f}\", True, \"#ffdd00\")\n",
    "        screen.blit(end_surf, end_surf.get_rect(center=(SCREEN_WIDTH//2, SCREEN_HEIGHT//2)))\n",
    "\n",
    "    # Back button\n",
    "    draw_button(back_btn, mpos)\n",
    "\n",
    "# ------------------ MAIN LOOP ------------------\n",
    "while True:\n",
    "    mpos = pygame.mouse.get_pos()\n",
    "    for event in pygame.event.get():\n",
    "        if event.type == pygame.QUIT:\n",
    "            pygame.quit()\n",
    "            sys.exit()\n",
    "        if event.type == pygame.MOUSEBUTTONDOWN:\n",
    "            if state == \"MENU\":\n",
    "                if play_btn.checkForInput(mpos):\n",
    "                    state = \"GAME\"\n",
    "                if quit_btn.checkForInput(mpos):\n",
    "                    pygame.quit()\n",
    "                    sys.exit()\n",
    "            elif state == \"GAME\":\n",
    "                if back_btn.checkForInput(mpos):\n",
    "                    state = \"MENU\"\n",
    "                # Handle invest/sell\n",
    "                if current_year_idx < n_years - 1:\n",
    "                    action_taken = False\n",
    "                    for name in COMPANIES:\n",
    "                        if invest_btns[name].checkForInput(mpos) and cash > 0:\n",
    "                            price = price_vals[name][current_year_idx]\n",
    "                            shares[name] = cash / price\n",
    "                            cash = 0\n",
    "                            action_taken = True\n",
    "                        if sell_btns[name].checkForInput(mpos) and shares[name] > 0:\n",
    "                            price = price_vals[name][current_year_idx]\n",
    "                            cash = shares[name] * price\n",
    "                            shares[name] = 0\n",
    "                            action_taken = True\n",
    "                    if action_taken:\n",
    "                        current_year_idx += 1\n",
    "\n",
    "    if state == \"MENU\":\n",
    "        draw_menu()\n",
    "    elif state == \"GAME\":\n",
    "        draw_game()\n",
    "\n",
    "    pygame.display.update()\n",
    "    clock.tick(FPS)\n"
   ]
  },
  {
   "cell_type": "code",
   "execution_count": null,
   "id": "9abd605b",
   "metadata": {},
   "outputs": [
    {
     "name": "stdout",
     "output_type": "stream",
     "text": [
      "pygame-ce 2.5.3 (SDL 2.30.12, Python 3.11.4)\n",
      "YF.download() has changed argument auto_adjust default to True\n"
     ]
    },
    {
     "name": "stderr",
     "output_type": "stream",
     "text": [
      "[*********************100%***********************]  3 of 3 completed\n"
     ]
    }
   ],
   "source": []
  },
  {
   "cell_type": "code",
   "execution_count": 1,
   "id": "fb71291e",
   "metadata": {},
   "outputs": [
    {
     "ename": "SyntaxError",
     "evalue": "unterminated string literal (detected at line 37) (1193221769.py, line 37)",
     "output_type": "error",
     "traceback": [
      "\u001b[0;36m  Cell \u001b[0;32mIn[1], line 37\u001b[0;36m\u001b[0m\n\u001b[0;31m    for i in (1, 2)\"]}]\u001b[0m\n\u001b[0m                   ^\u001b[0m\n\u001b[0;31mSyntaxError\u001b[0m\u001b[0;31m:\u001b[0m unterminated string literal (detected at line 37)\n"
     ]
    }
   ],
   "source": []
  },
  {
   "cell_type": "code",
   "execution_count": 2,
   "id": "0bcafca8",
   "metadata": {},
   "outputs": [
    {
     "name": "stdout",
     "output_type": "stream",
     "text": [
      "pygame-ce 2.5.3 (SDL 2.30.12, Python 3.11.4)\n"
     ]
    },
    {
     "ename": "FileNotFoundError",
     "evalue": "[Errno 2] No such file or directory: '/mnt/data/free-office-pixel-art.zip'",
     "output_type": "error",
     "traceback": [
      "\u001b[0;31m---------------------------------------------------------------------------\u001b[0m",
      "\u001b[0;31mFileNotFoundError\u001b[0m                         Traceback (most recent call last)",
      "Cell \u001b[0;32mIn[2], line 23\u001b[0m\n\u001b[1;32m     21\u001b[0m \u001b[38;5;66;03m# ------------------ UNZIP ASSETS ------------------\u001b[39;00m\n\u001b[1;32m     22\u001b[0m \u001b[38;5;28;01mif\u001b[39;00m \u001b[38;5;129;01mnot\u001b[39;00m os\u001b[38;5;241m.\u001b[39mpath\u001b[38;5;241m.\u001b[39misdir(ASSETS_DIR):\n\u001b[0;32m---> 23\u001b[0m     \u001b[38;5;28;01mwith\u001b[39;00m ZipFile(ASSETS_ZIP, \u001b[38;5;124m'\u001b[39m\u001b[38;5;124mr\u001b[39m\u001b[38;5;124m'\u001b[39m) \u001b[38;5;28;01mas\u001b[39;00m zip_ref:\n\u001b[1;32m     24\u001b[0m         zip_ref\u001b[38;5;241m.\u001b[39mextractall(ASSETS_DIR)\n\u001b[1;32m     26\u001b[0m \u001b[38;5;66;03m# ------------------ PYGAME INIT ------------------\u001b[39;00m\n",
      "File \u001b[0;32m~/anaconda3/lib/python3.11/zipfile.py:1284\u001b[0m, in \u001b[0;36mZipFile.__init__\u001b[0;34m(self, file, mode, compression, allowZip64, compresslevel, strict_timestamps, metadata_encoding)\u001b[0m\n\u001b[1;32m   1282\u001b[0m \u001b[38;5;28;01mwhile\u001b[39;00m \u001b[38;5;28;01mTrue\u001b[39;00m:\n\u001b[1;32m   1283\u001b[0m     \u001b[38;5;28;01mtry\u001b[39;00m:\n\u001b[0;32m-> 1284\u001b[0m         \u001b[38;5;28mself\u001b[39m\u001b[38;5;241m.\u001b[39mfp \u001b[38;5;241m=\u001b[39m io\u001b[38;5;241m.\u001b[39mopen(file, filemode)\n\u001b[1;32m   1285\u001b[0m     \u001b[38;5;28;01mexcept\u001b[39;00m \u001b[38;5;167;01mOSError\u001b[39;00m:\n\u001b[1;32m   1286\u001b[0m         \u001b[38;5;28;01mif\u001b[39;00m filemode \u001b[38;5;129;01min\u001b[39;00m modeDict:\n",
      "\u001b[0;31mFileNotFoundError\u001b[0m: [Errno 2] No such file or directory: '/mnt/data/free-office-pixel-art.zip'"
     ]
    }
   ],
   "source": []
  },
  {
   "cell_type": "code",
   "execution_count": null,
   "id": "f9b38618",
   "metadata": {},
   "outputs": [
    {
     "name": "stdout",
     "output_type": "stream",
     "text": [
      "pygame-ce 2.5.3 (SDL 2.30.12, Python 3.11.4)\n",
      "YF.download() has changed argument auto_adjust default to True\n"
     ]
    }
   ],
   "source": [
    "import pygame\n",
    "import sys\n",
    "import pandas as pd\n",
    "import yfinance as yf\n",
    "import datetime\n",
    "\n",
    "# ------------------ SETTINGS ------------------\n",
    "SCREEN_WIDTH, SCREEN_HEIGHT = 1280, 720\n",
    "FPS = 30\n",
    "FONT_PATH = \"assets/font.ttf\"\n",
    "BG_IMAGE = \"assets/Background.png\"\n",
    "COMPANIES = {\"Nintendo\": \"NTDOY\", \"TakeTwo\": \"TTWO\", \"EA\": \"EA\"}\n",
    "START_YEAR = 2000\n",
    "START_CAPITAL = 10000\n",
    "\n",
    "# ------------------ INITIALIZATION ------------------\n",
    "pygame.init()\n",
    "screen = pygame.display.set_mode((SCREEN_WIDTH, SCREEN_HEIGHT))\n",
    "pygame.display.set_caption(\"PixelInvest: Retro Stock Simulator\")\n",
    "clock = pygame.time.Clock()\n",
    "\n",
    "# Load font and background\n",
    "pixel_font = lambda size: pygame.font.Font(FONT_PATH, size)\n",
    "bg_image = pygame.image.load(BG_IMAGE).convert()\n",
    "\n",
    "# Button helper\n",
    "from button import Button\n",
    "\n",
    "def draw_button(btn, mouse_pos):\n",
    "    btn.changeColor(mouse_pos)\n",
    "    btn.update(screen)\n",
    "\n",
    "# ------------------ DATA FETCH ------------------\n",
    "end_date = datetime.date.today().isoformat()\n",
    "start_date = f\"{START_YEAR}-01-01\"\n",
    "df_raw = yf.download(list(COMPANIES.values()), start=start_date, end=end_date)[\"Close\"]\n",
    "price_yearly = df_raw.resample('Y').last()\n",
    "years = price_yearly.index.year.tolist()\n",
    "\n",
    "price_vals = {name: price_yearly[ticker].to_numpy() for name, ticker in COMPANIES.items()}\n",
    "n_years = len(years)\n",
    "\n",
    "# ------------------ GAME STATE ------------------\n",
    "state = \"MENU\"\n",
    "cash = START_CAPITAL\n",
    "current_year_idx = 0\n",
    "shares = {name: 0.0 for name in COMPANIES}\n",
    "\n",
    "# Buttons setup (same as you already had)\n",
    "invest_btns, sell_btns = {}, {}\n",
    "for i, name in enumerate(COMPANIES):\n",
    "    invest_btns[name] = Button(...)\n",
    "    sell_btns[name]   = Button(...)\n",
    "\n",
    "play_btn = Button(...)\n",
    "quit_btn = Button(...)\n",
    "back_btn = Button(...)\n",
    "\n",
    "# Your draw_menu() and draw_game() functions go here unchanged\n",
    "def draw_menu(): ...\n",
    "def draw_game(): ...\n",
    "\n",
    "# ------------------ MAIN LOOP REFACTOR ------------------\n",
    "def main():\n",
    "    running = True\n",
    "    while running:\n",
    "        mpos = pygame.mouse.get_pos()\n",
    "\n",
    "        for event in pygame.event.get():\n",
    "            if event.type == pygame.QUIT:\n",
    "                running = False\n",
    "\n",
    "            if event.type == pygame.MOUSEBUTTONDOWN:\n",
    "                if state == \"MENU\":\n",
    "                    if play_btn.checkForInput(mpos):\n",
    "                        state = \"GAME\"\n",
    "                    if quit_btn.checkForInput(mpos):\n",
    "                        running = False\n",
    "\n",
    "                elif state == \"GAME\":\n",
    "                    if back_btn.checkForInput(mpos):\n",
    "                        state = \"MENU\"\n",
    "                    # invest/sell logic (just swap sys.exit() -> running=False if quitting)\n",
    "                    if current_year_idx < n_years - 1:\n",
    "                        action_taken = False\n",
    "                        for name in COMPANIES:\n",
    "                            if invest_btns[name].checkForInput(mpos) and cash > 0:\n",
    "                                price = price_vals[name][current_year_idx]\n",
    "                                shares[name] = cash / price\n",
    "                                cash = 0\n",
    "                                action_taken = True\n",
    "                            if sell_btns[name].checkForInput(mpos) and shares[name] > 0:\n",
    "                                price = price_vals[name][current_year_idx]\n",
    "                                cash = shares[name] * price\n",
    "                                shares[name] = 0\n",
    "                                action_taken = True\n",
    "                        if action_taken:\n",
    "                            current_year_idx += 1\n",
    "\n",
    "        # Draw the correct screen\n",
    "        if state == \"MENU\":\n",
    "            draw_menu()\n",
    "        else:\n",
    "            draw_game()\n",
    "\n",
    "        pygame.display.update()\n",
    "        clock.tick(FPS)\n",
    "\n",
    "    # Clean shutdown\n",
    "    pygame.quit()\n",
    "\n",
    "if __name__ == \"__main__\":\n",
    "    main()\n"
   ]
  },
  {
   "cell_type": "code",
   "execution_count": null,
   "id": "bfc230a2",
   "metadata": {},
   "outputs": [],
   "source": []
  }
 ],
 "metadata": {
  "kernelspec": {
   "display_name": "Python 3 (ipykernel)",
   "language": "python",
   "name": "python3"
  },
  "language_info": {
   "codemirror_mode": {
    "name": "ipython",
    "version": 3
   },
   "file_extension": ".py",
   "mimetype": "text/x-python",
   "name": "python",
   "nbconvert_exporter": "python",
   "pygments_lexer": "ipython3",
   "version": "3.11.4"
  }
 },
 "nbformat": 4,
 "nbformat_minor": 5
}
